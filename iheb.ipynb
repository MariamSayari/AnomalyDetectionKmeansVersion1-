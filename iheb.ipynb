{
  "nbformat": 4,
  "nbformat_minor": 0,
  "metadata": {
    "colab": {
      "name": "iheb.ipynb",
      "provenance": [],
      "authorship_tag": "ABX9TyNOzfFD8GYofHrgWdB1g7dh",
      "include_colab_link": true
    },
    "kernelspec": {
      "name": "python3",
      "display_name": "Python 3"
    }
  },
  "cells": [
    {
      "cell_type": "markdown",
      "metadata": {
        "id": "view-in-github",
        "colab_type": "text"
      },
      "source": [
        "<a href=\"https://colab.research.google.com/github/MariamSayari/AnomalyDetectionKmeansVersion1-/blob/master/iheb.ipynb\" target=\"_parent\"><img src=\"https://colab.research.google.com/assets/colab-badge.svg\" alt=\"Open In Colab\"/></a>"
      ]
    },
    {
      "cell_type": "code",
      "metadata": {
        "colab": {
          "base_uri": "https://localhost:8080/"
        },
        "id": "5fErmTpzHhGw",
        "outputId": "13cd6fec-35dd-46e9-c71c-9b6823d346e7"
      },
      "source": [
        "!pip install dtaidistance"
      ],
      "execution_count": 12,
      "outputs": [
        {
          "output_type": "stream",
          "text": [
            "Collecting dtaidistance\n",
            "\u001b[?25l  Downloading https://files.pythonhosted.org/packages/d6/ae/3b33bb905c018e7d6782652c3277f48003bfb380c22412fbe50ef48a5af3/dtaidistance-2.2.5.tar.gz (932kB)\n",
            "\r\u001b[K     |▍                               | 10kB 17.6MB/s eta 0:00:01\r\u001b[K     |▊                               | 20kB 18.8MB/s eta 0:00:01\r\u001b[K     |█                               | 30kB 10.1MB/s eta 0:00:01\r\u001b[K     |█▍                              | 40kB 8.4MB/s eta 0:00:01\r\u001b[K     |█▊                              | 51kB 9.6MB/s eta 0:00:01\r\u001b[K     |██                              | 61kB 11.0MB/s eta 0:00:01\r\u001b[K     |██▌                             | 71kB 11.9MB/s eta 0:00:01\r\u001b[K     |██▉                             | 81kB 12.9MB/s eta 0:00:01\r\u001b[K     |███▏                            | 92kB 12.1MB/s eta 0:00:01\r\u001b[K     |███▌                            | 102kB 11.4MB/s eta 0:00:01\r\u001b[K     |███▉                            | 112kB 11.4MB/s eta 0:00:01\r\u001b[K     |████▏                           | 122kB 11.4MB/s eta 0:00:01\r\u001b[K     |████▋                           | 133kB 11.4MB/s eta 0:00:01\r\u001b[K     |█████                           | 143kB 11.4MB/s eta 0:00:01\r\u001b[K     |█████▎                          | 153kB 11.4MB/s eta 0:00:01\r\u001b[K     |█████▋                          | 163kB 11.4MB/s eta 0:00:01\r\u001b[K     |██████                          | 174kB 11.4MB/s eta 0:00:01\r\u001b[K     |██████▎                         | 184kB 11.4MB/s eta 0:00:01\r\u001b[K     |██████▊                         | 194kB 11.4MB/s eta 0:00:01\r\u001b[K     |███████                         | 204kB 11.4MB/s eta 0:00:01\r\u001b[K     |███████▍                        | 215kB 11.4MB/s eta 0:00:01\r\u001b[K     |███████▊                        | 225kB 11.4MB/s eta 0:00:01\r\u001b[K     |████████                        | 235kB 11.4MB/s eta 0:00:01\r\u001b[K     |████████▍                       | 245kB 11.4MB/s eta 0:00:01\r\u001b[K     |████████▉                       | 256kB 11.4MB/s eta 0:00:01\r\u001b[K     |█████████▏                      | 266kB 11.4MB/s eta 0:00:01\r\u001b[K     |█████████▌                      | 276kB 11.4MB/s eta 0:00:01\r\u001b[K     |█████████▉                      | 286kB 11.4MB/s eta 0:00:01\r\u001b[K     |██████████▏                     | 296kB 11.4MB/s eta 0:00:01\r\u001b[K     |██████████▌                     | 307kB 11.4MB/s eta 0:00:01\r\u001b[K     |██████████▉                     | 317kB 11.4MB/s eta 0:00:01\r\u001b[K     |███████████▎                    | 327kB 11.4MB/s eta 0:00:01\r\u001b[K     |███████████▋                    | 337kB 11.4MB/s eta 0:00:01\r\u001b[K     |████████████                    | 348kB 11.4MB/s eta 0:00:01\r\u001b[K     |████████████▎                   | 358kB 11.4MB/s eta 0:00:01\r\u001b[K     |████████████▋                   | 368kB 11.4MB/s eta 0:00:01\r\u001b[K     |█████████████                   | 378kB 11.4MB/s eta 0:00:01\r\u001b[K     |█████████████▍                  | 389kB 11.4MB/s eta 0:00:01\r\u001b[K     |█████████████▊                  | 399kB 11.4MB/s eta 0:00:01\r\u001b[K     |██████████████                  | 409kB 11.4MB/s eta 0:00:01\r\u001b[K     |██████████████▍                 | 419kB 11.4MB/s eta 0:00:01\r\u001b[K     |██████████████▊                 | 430kB 11.4MB/s eta 0:00:01\r\u001b[K     |███████████████                 | 440kB 11.4MB/s eta 0:00:01\r\u001b[K     |███████████████▌                | 450kB 11.4MB/s eta 0:00:01\r\u001b[K     |███████████████▉                | 460kB 11.4MB/s eta 0:00:01\r\u001b[K     |████████████████▏               | 471kB 11.4MB/s eta 0:00:01\r\u001b[K     |████████████████▌               | 481kB 11.4MB/s eta 0:00:01\r\u001b[K     |████████████████▉               | 491kB 11.4MB/s eta 0:00:01\r\u001b[K     |█████████████████▏              | 501kB 11.4MB/s eta 0:00:01\r\u001b[K     |█████████████████▋              | 512kB 11.4MB/s eta 0:00:01\r\u001b[K     |██████████████████              | 522kB 11.4MB/s eta 0:00:01\r\u001b[K     |██████████████████▎             | 532kB 11.4MB/s eta 0:00:01\r\u001b[K     |██████████████████▋             | 542kB 11.4MB/s eta 0:00:01\r\u001b[K     |███████████████████             | 552kB 11.4MB/s eta 0:00:01\r\u001b[K     |███████████████████▎            | 563kB 11.4MB/s eta 0:00:01\r\u001b[K     |███████████████████▊            | 573kB 11.4MB/s eta 0:00:01\r\u001b[K     |████████████████████            | 583kB 11.4MB/s eta 0:00:01\r\u001b[K     |████████████████████▍           | 593kB 11.4MB/s eta 0:00:01\r\u001b[K     |████████████████████▊           | 604kB 11.4MB/s eta 0:00:01\r\u001b[K     |█████████████████████           | 614kB 11.4MB/s eta 0:00:01\r\u001b[K     |█████████████████████▍          | 624kB 11.4MB/s eta 0:00:01\r\u001b[K     |█████████████████████▊          | 634kB 11.4MB/s eta 0:00:01\r\u001b[K     |██████████████████████▏         | 645kB 11.4MB/s eta 0:00:01\r\u001b[K     |██████████████████████▌         | 655kB 11.4MB/s eta 0:00:01\r\u001b[K     |██████████████████████▉         | 665kB 11.4MB/s eta 0:00:01\r\u001b[K     |███████████████████████▏        | 675kB 11.4MB/s eta 0:00:01\r\u001b[K     |███████████████████████▌        | 686kB 11.4MB/s eta 0:00:01\r\u001b[K     |███████████████████████▉        | 696kB 11.4MB/s eta 0:00:01\r\u001b[K     |████████████████████████▎       | 706kB 11.4MB/s eta 0:00:01\r\u001b[K     |████████████████████████▋       | 716kB 11.4MB/s eta 0:00:01\r\u001b[K     |█████████████████████████       | 727kB 11.4MB/s eta 0:00:01\r\u001b[K     |█████████████████████████▎      | 737kB 11.4MB/s eta 0:00:01\r\u001b[K     |█████████████████████████▋      | 747kB 11.4MB/s eta 0:00:01\r\u001b[K     |██████████████████████████      | 757kB 11.4MB/s eta 0:00:01\r\u001b[K     |██████████████████████████▍     | 768kB 11.4MB/s eta 0:00:01\r\u001b[K     |██████████████████████████▊     | 778kB 11.4MB/s eta 0:00:01\r\u001b[K     |███████████████████████████     | 788kB 11.4MB/s eta 0:00:01\r\u001b[K     |███████████████████████████▍    | 798kB 11.4MB/s eta 0:00:01\r\u001b[K     |███████████████████████████▊    | 808kB 11.4MB/s eta 0:00:01\r\u001b[K     |████████████████████████████    | 819kB 11.4MB/s eta 0:00:01\r\u001b[K     |████████████████████████████▌   | 829kB 11.4MB/s eta 0:00:01\r\u001b[K     |████████████████████████████▉   | 839kB 11.4MB/s eta 0:00:01\r\u001b[K     |█████████████████████████████▏  | 849kB 11.4MB/s eta 0:00:01\r\u001b[K     |█████████████████████████████▌  | 860kB 11.4MB/s eta 0:00:01\r\u001b[K     |█████████████████████████████▉  | 870kB 11.4MB/s eta 0:00:01\r\u001b[K     |██████████████████████████████▏ | 880kB 11.4MB/s eta 0:00:01\r\u001b[K     |██████████████████████████████▋ | 890kB 11.4MB/s eta 0:00:01\r\u001b[K     |███████████████████████████████ | 901kB 11.4MB/s eta 0:00:01\r\u001b[K     |███████████████████████████████▎| 911kB 11.4MB/s eta 0:00:01\r\u001b[K     |███████████████████████████████▋| 921kB 11.4MB/s eta 0:00:01\r\u001b[K     |████████████████████████████████| 931kB 11.4MB/s eta 0:00:01\r\u001b[K     |████████████████████████████████| 942kB 11.4MB/s \n",
            "\u001b[?25h  Installing build dependencies ... \u001b[?25l\u001b[?25hdone\n",
            "  Getting requirements to build wheel ... \u001b[?25l\u001b[?25hdone\n",
            "    Preparing wheel metadata ... \u001b[?25l\u001b[?25hdone\n",
            "Requirement already satisfied: cython>=0.29.6 in /usr/local/lib/python3.7/dist-packages (from dtaidistance) (0.29.22)\n",
            "Building wheels for collected packages: dtaidistance\n",
            "  Building wheel for dtaidistance (PEP 517) ... \u001b[?25l\u001b[?25hdone\n",
            "  Created wheel for dtaidistance: filename=dtaidistance-2.2.5-cp37-cp37m-linux_x86_64.whl size=1552511 sha256=338910a78dc530a64330d30bc2251a00aa52044aa12cf71149a125c8ea4cbc9a\n",
            "  Stored in directory: /root/.cache/pip/wheels/f8/37/a3/5b68a20ca502772e5affea6be75bf964ad9f481fdc54f28627\n",
            "Successfully built dtaidistance\n",
            "Installing collected packages: dtaidistance\n",
            "Successfully installed dtaidistance-2.2.5\n"
          ],
          "name": "stdout"
        }
      ]
    },
    {
      "cell_type": "code",
      "metadata": {
        "colab": {
          "base_uri": "https://localhost:8080/",
          "height": 281
        },
        "id": "kI5tWY8mAzWq",
        "outputId": "b7b5d336-dad7-4bc4-f2c3-0098eee93f01"
      },
      "source": [
        "import numpy as np\r\n",
        "from scipy import signal\r\n",
        "from pylab import *\r\n",
        "from dtaidistance import dtw\r\n",
        "from dtaidistance import dtw_visualisation as dtwvis\r\n",
        "import numpy as np\r\n",
        "\r\n",
        "\r\n",
        "def synchronize(list_a: list, list_b: list) -> tuple:\r\n",
        "  Syn_A=[]\r\n",
        "  Syn_B=[]\r\n",
        "  distance = dtw.distance(list_a, list_b)\r\n",
        "  path = dtw.warping_path(s1, s2)\r\n",
        "  for i in range(len(path)):\r\n",
        "    Syn_A.append(path[i][0])\r\n",
        "    Syn_B.append(path[i][1])\r\n",
        "  return (Syn_A, Syn_B)\r\n",
        "if __name__ == \"__main__\":\r\n",
        "    A = [2, 1, 1, 1, 2, 2, 2, 1, 1, 1, 3, 3]\r\n",
        "    B = [1, 1, 2, 2, 2, 1, 1, 1, 2, 2, 2, 1]\r\n",
        "\r\n",
        "    synced_A, synced_B = synchronize(A, B)\r\n",
        "\r\n",
        "    import matplotlib.pyplot as plt\r\n",
        "\r\n",
        "    fig, ax = plt.subplots(2, 1)\r\n",
        "    ax[0].set_title(\"Original signals\")\r\n",
        "    ax[0].plot(A, \"o-\", label=\"signal A\", markersize=8)\r\n",
        "    ax[0].plot(B, \"*-\", label=\"signal B\")\r\n",
        "    ax[0].legend()\r\n",
        "    ax[1].set_title(\"Synced signals\")\r\n",
        "    ax[1].plot(synced_A, \"o-\", label=\"signal A\", markersize=8)\r\n",
        "    ax[1].plot(synced_B, \"*-\", label=\"signal B\")\r\n",
        "    ax[1].legend()\r\n",
        "    plt.show()"
      ],
      "execution_count": 32,
      "outputs": [
        {
          "output_type": "display_data",
          "data": {
            "image/png": "[encoded data removed]",
            "text/plain": [
              "<Figure size 432x288 with 2 Axes>"
            ]
          },
          "metadata": {
            "tags": [],
            "needs_background": "light"
          }
        }
      ]
    },
    {
      "cell_type": "code",
      "metadata": {
        "colab": {
          "base_uri": "https://localhost:8080/",
          "height": 298
        },
        "id": "_vL3nDZpIWvd",
        "outputId": "4fd9119f-d813-4da6-fc68-999f6c071913"
      },
      "source": [
        " fig, ax = plt.subplots(2, 1)\r\n",
        "ax[0].set_title(\"Original signals\")\r\n",
        "ax[0].plot(synced_A, \"o-\", label=\"signal A\", markersize=8)\r\n",
        "ax[0].plot(synced_B, \"*-\", label=\"signal B\")"
      ],
      "execution_count": 31,
      "outputs": [
        {
          "output_type": "execute_result",
          "data": {
            "text/plain": [
              "[<matplotlib.lines.Line2D at 0x7fe0904c2dd0>]"
            ]
          },
          "metadata": {
            "tags": []
          },
          "execution_count": 31
        },
        {
          "output_type": "display_data",
          "data": {
            "image/png": "[encoded data removed]",
            "text/plain": [
              "<Figure size 432x288 with 2 Axes>"
            ]
          },
          "metadata": {
            "tags": [],
            "needs_background": "light"
          }
        }
      ]
    },
    {
      "cell_type": "code",
      "metadata": {
        "colab": {
          "base_uri": "https://localhost:8080/",
          "height": 282
        },
        "id": "rpfN_HgRMldG",
        "outputId": "1374f100-ef7b-4244-bcb7-81ed69b06092"
      },
      "source": [
        "    A = [2, 1, 1, 1, 2, 2, 2, 1, 1, 1, 3, 3]\r\n",
        "    B = [1, 1, 2, 2, 2, 1, 1, 1, 2, 2, 2, 1]\r\n",
        "\r\n",
        "import numpy as np\r\n",
        "from dtw import *\r\n",
        "import matplotlib.pyplot as plt\r\n",
        "alignment = dtw(A,B)\r\n",
        "plt.plot(alignment.index1, alignment.index2) "
      ],
      "execution_count": 36,
      "outputs": [
        {
          "output_type": "execute_result",
          "data": {
            "text/plain": [
              "[<matplotlib.lines.Line2D at 0x7fe0909246d0>]"
            ]
          },
          "metadata": {
            "tags": []
          },
          "execution_count": 36
        },
        {
          "output_type": "display_data",
          "data": {
            "image/png": "[encoded data removed]",
            "text/plain": [
              "<Figure size 432x288 with 1 Axes>"
            ]
          },
          "metadata": {
            "tags": [],
            "needs_background": "light"
          }
        }
      ]
    },
    {
      "cell_type": "markdown",
      "metadata": {
        "id": "ZYsWAG3yROB3"
      },
      "source": [
        "## EX5"
      ]
    },
    {
      "cell_type": "code",
      "metadata": {
        "id": "aBvD0Pm5OFr8"
      },
      "source": [
        "\"\"\"\r\n",
        "Joint à ce script se trouve un jeu de données nommé signal.npy.\r\n",
        "Le but de cet exercice est d'extraire des informations de ce signal.\r\n",
        "\r\n",
        "\r\n",
        "Pour info:\r\n",
        "    Les données proviennent d'un drone allant à 7 km / h à une hauteur de 2 mètres du sol \r\n",
        "    et survolant un pipeline de façon longitudinal transportant du gaz.\r\n",
        "    Un courant alternatif à été injecté entre ce pipeline et un piquet de terre.\r\n",
        "    Un capteur à enregistré la norme du signal magnétique de ce survol.\r\n",
        "\"\"\"\r\n",
        "\r\n",
        "import os\r\n",
        "import numpy\r\n",
        "import scipy.fft, scipy.signal\r\n",
        "import matplotlib.pyplot as plt\r\n",
        "from scipy.fftpack import fft\r\n",
        "\r\n",
        "\r\n",
        "def open_file(filename: str):\r\n",
        "    \"\"\"\r\n",
        "    Etape 1: Chargement des données numpy\r\n",
        "    \r\n",
        "    Input: String du nom du fichier\r\n",
        "    Output: 1-D array numpy de flottants\r\n",
        "    \"\"\"\r\n",
        "    \r\n",
        "\r\n",
        "class signal_tools:\r\n",
        "    def __init__(self):\r\n",
        "        \"\"\"\r\n",
        "        Données d entrée:\r\n",
        "        acquisition_frequency: Fréquence d'acquisition du convertisseur analogique numérique\r\n",
        "        \"\"\"\r\n",
        "        self.__acquisition_frequency = 1991.265812329471  # Hz\r\n",
        "\r\n",
        "    def compute_timestamp(self, signal_data):\r\n",
        "        \"\"\"\r\n",
        "        Etape 2: Création d'une liste de temps (abcisse des données)\r\n",
        "        \r\n",
        "        Création du timestamp à partir du nombre de données et de la fréquence d'acquisition\r\n",
        "        \"\"\"\r\n",
        "        timestamp=[]\r\n",
        "\r\n",
        "\r\n",
        "\r\n",
        "    @staticmethod\r\n",
        "    def compute_fourrier_transform(signal_data, ts):\r\n",
        "        \"\"\"\r\n",
        "        Etape 3: Créer le spectre de Fourrier du signal des fréquences comprises entre 1 et 1000 Hz\r\n",
        "        \r\n",
        "        https://docs.scipy.org/doc/scipy/reference/generated/scipy.fft.fft.html\r\n",
        "        \r\n",
        "        Inputs:\r\n",
        "            signal_data: Les données brutes du fichier signal.npy (Etape 1)\r\n",
        "            ts: timestamp du signal (Etape 2)\r\n",
        "        \"\"\"\r\n",
        "\r\n",
        "\r\n",
        "    @staticmethod\r\n",
        "    def get_signal_freq(xf, yf):\r\n",
        "        \"\"\"\r\n",
        "        Etape 4: Récupérer de façon automatique la fréquence >= 10 Hz dominante de la transformée de Fourrier (La méthode la plus rapide en temps de calcul est à privilégier)\r\n",
        "        \r\n",
        "        Le résultat doit être un entier.\r\n",
        "        \r\n",
        "        Inputs:\r\n",
        "            xf: Abscisse du spectre de fourrier\r\n",
        "            yf: Ordonnée du spectre de fourrier\r\n",
        "        \"\"\"\r\n",
        "\r\n",
        "    def signal_filtering_func(self, fs, filter_type):\r\n",
        "        \"\"\"\r\n",
        "        Etape 5.1: Filtrer les données avec un filtre passe-bas\r\n",
        "        \r\n",
        "        https://docs.scipy.org/doc/scipy/reference/generated/scipy.signal.butter.html\r\n",
        "        \r\n",
        "        Inputs:\r\n",
        "            fs: La ou les fréquences critiques. Pour les filtres passe-bas et passe-haut, Wn est un scalaire; \r\n",
        "                pour les filtres passe-bande et coupe-bande, Wn est une séquence de longueur 2. \r\n",
        "                Pour un filtre Butterworth, c'est le point auquel le gain tombe à 1 / sqrt (2) celui de la bande passante (le «point -3 dB»).\r\n",
        "                Pour les filtres numériques, Wn est dans les mêmes unités que fs. Par défaut, fs est égal à 2 demi-cycles / échantillon, ils sont donc normalisés de 0 à 1, où 1 est la fréquence de Nyquist. (Wn est donc en demi-cycles / échantillon.)Pour les filtres analogiques, Wn est une fréquence angulaire (par exemple rad / s).\r\n",
        "            filter_type: Le type de filtre: {‘lowpass’, ‘highpass’, ‘bandpass’, ‘bandstop’}\r\n",
        "        \"\"\"\r\n",
        "\r\n",
        "    @staticmethod\r\n",
        "    def low_pass(signal_data):\r\n",
        "        \"\"\"\r\n",
        "        Etape 5.2: Filtrer les données avec un filtre passe-bas\r\n",
        "        \r\n",
        "        https://docs.scipy.org/doc/scipy/reference/generated/scipy.signal.filtfilt.html\r\n",
        "        La machine capturant les données se déplace à 12 km/h.\r\n",
        "        Les anomalies mesurés ont une dimension moyenne de 1 m.\r\n",
        "        \r\n",
        "        Inputs:\r\n",
        "            signal_data: Les données brutes du fichier signal.npy (Etape 1)\r\n",
        "        \"\"\"\r\n",
        "\r\n",
        "    @staticmethod\r\n",
        "    def band_pass(signal_data, f1, f2):\r\n",
        "        \"\"\"\r\n",
        "        Etape 6: Filtrer les données avec un passe-bande\r\n",
        "        \r\n",
        "        https://docs.scipy.org/doc/scipy/reference/generated/scipy.signal.filtfilt.html\r\n",
        "        \r\n",
        "        Vous devrez choisir f1 et f2 pour obtenir un bon signal.\r\n",
        "        Le pytest de cette fonction défini un \"bon signal\"\r\n",
        "        La moyenne de f1 et f2 doit etre le résultat de l'étape 4\r\n",
        "        \r\n",
        "        Inputs:\r\n",
        "            signal_data: Les données brutes du fichier signal.npy (Etape 1)\r\n",
        "            f1: Fréquence minimale\r\n",
        "            f1: Fréquence maximale\r\n",
        "        \"\"\"\r\n",
        "\r\n",
        "\r\n",
        "    @staticmethod\r\n",
        "    def get_signal_envelope(signal_data):\r\n",
        "        \"\"\"\r\n",
        "        Etape 7: Création de l'enveloppe des données filtrées\r\n",
        "        \r\n",
        "        https://docs.scipy.org/doc/scipy/reference/generated/scipy.signal.hilbert.html\r\n",
        "        \r\n",
        "        Tracé de l'enveloppe du signal par la transformée de Hilbert\r\n",
        "        \r\n",
        "        Inputs:\r\n",
        "            signal_data: Les données filtrées passe bande (Etape 6)\r\n",
        "        \"\"\"\r\n",
        "        \r\n",
        "    @staticmethod\r\n",
        "    def plot_all(ts, signal_data, xf, yf, filteredlow_signal, filtered_signal, signal_envelop):\r\n",
        "        \"\"\"\r\n",
        "        Etape 8: Affichage de l'ensemble des graphs dans une seule fenêtre avec 3 graphs: (Titre, nom des axes, label, marqueurs)\r\n",
        "            1: Données brutes +  Données filtrées passe bas\r\n",
        "            2: Fourrier (semilog sur axe Y)\r\n",
        "            3: Données filtrées passe bande + enveloppe\r\n",
        "        \r\n",
        "        Inputs:\r\n",
        "            ts: timestamp du signal (Etape 2)\r\n",
        "            signal_data: Les données brutes du fichier signal.npy (Etape 1)\r\n",
        "            xf: Abscisse du spectre de fourrier\r\n",
        "            yf: Ordonnée du spectre de fourrier\r\n",
        "            filteredlow_signal: Les données filtrées passe bas (Etape 5.2)\r\n",
        "            filtered_signal: Les données filtrées passe bande (Etape 6)\r\n",
        "            signal_envelop: Enveloppe des données filtrées pass bande (Etape 7)\r\n",
        "        \"\"\"\r\n",
        "        \r\n",
        "\r\n",
        "    @staticmethod\r\n",
        "    def remove_side_effect(signal_data, f1, f2):\r\n",
        "        \"\"\"\r\n",
        "        Etape 9 bonus: Ne pas avoir d'effets de bord sur l'enveloppe\r\n",
        "        \r\n",
        "        Atténuation de 9 fois cet effet sur les 1000 premier points et derniers points.\r\n",
        "        \r\n",
        "        Pistes et explication à rajouter ci dessous:\r\n",
        "            ...\r\n",
        "        \r\n",
        "        Inputs:\r\n",
        "            signal_data: Les données brutes du fichier signal.npy (Etape 1)\r\n",
        "            f1: Fréquence minimale\r\n",
        "            f1: Fréquence maximale\r\n",
        "        \"\"\"\r\n",
        "\r\n",
        "\r\n",
        "if __name__ == \"__main__\":\r\n",
        "    # Extraction des données\r\n",
        "    signal_data = open_file(\"signal.npy\")\r\n",
        "    # plt.plot(range(len(signal_data)), signal_data)\r\n",
        "    # plt.show()\r\n",
        "\r\n",
        "    # Création du timestamp\r\n",
        "    ts = signal_tools().compute_timestamp(signal_data)\r\n",
        "    # plt.plot(ts, signal_data)\r\n",
        "    # plt.show()\r\n",
        "\r\n",
        "    # Compute Fourrier\r\n",
        "    xf, yf = signal_tools.compute_fourrier_transform(signal_data, ts)\r\n",
        "    # plt.plot(xf, yf)\r\n",
        "    # plt.show()\r\n",
        "\r\n",
        "    # Frequnecy gather\r\n",
        "    fs = signal_tools.get_signal_freq(xf, yf)\r\n",
        "    # print(\"frequency: \" + str(fs))\r\n",
        "\r\n",
        "    # Signal filter low pass\r\n",
        "    filteredlow_signal = signal_tools.low_pass(signal_data)\r\n",
        "    # plt.plot(ts, filteredlow_signal)\r\n",
        "    # plt.show()\r\n",
        "    \r\n",
        "    # Signal filter band pass\r\n",
        "    filtered_signal = signal_tools.band_pass(signal_data, fs - 1, fs + 1)\r\n",
        "    # plt.plot(ts, filtered_signal)\r\n",
        "    # plt.show()\r\n",
        "\r\n",
        "    # Signal env\r\n",
        "    signal_envelop = signal_tools.get_signal_envelope(filtered_signal)\r\n",
        "    # plt.plot(ts, signal_envelop)\r\n",
        "    # plt.show()\r\n",
        "\r\n",
        "    # Data visualisation\r\n",
        "    signal_tools.plot_all(ts, signal_data, xf, yf, filteredlow_signal, filtered_signal, signal_envelop)\r\n",
        "    \r\n",
        "    # Bonus: Remove side effect\r\n",
        "    signal_envelop_without_side_effect = signal_tools.remove_side_effect(\r\n",
        "        signal_data, fs - 1, fs + 1\r\n",
        "    )\r\n",
        "    plt.plot(ts, signal_envelop)\r\n",
        "    plt.plot(ts, signal_envelop_without_side_effect)\r\n",
        "    plt.show()"
      ],
      "execution_count": null,
      "outputs": []
    }
  ]
}